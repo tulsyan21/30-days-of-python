{
 "cells": [
  {
   "cell_type": "markdown",
   "metadata": {},
   "source": [
    "# Day 2 challenge: variables, operators\n",
    "Please click on the link to view the challenge on hackerank website: https://www.hackerrank.com/challenges/30-operators/problem"
   ]
  },
  {
   "cell_type": "code",
   "execution_count": 17,
   "metadata": {},
   "outputs": [
    {
     "name": "stdout",
     "output_type": "stream",
     "text": [
      "12\n",
      "20\n",
      "8\n",
      "The total meal cost is 15 dollars.\n"
     ]
    }
   ],
   "source": [
    "def get_total_cost_of_meal():\n",
    "    # original meal price\n",
    "    meal_cost = float(input())\n",
    "    # tip percentage\n",
    "    tip_percent = int(input())\n",
    "    # tax percentage\n",
    "    tax_percent = int(input())\n",
    "\n",
    "    # calculation code \n",
    "    tip = meal_cost * (tip_percent/100)# calculate tip\n",
    "    tax = meal_cost * (tax_percent/100)# caclulate tax\n",
    "    total = meal_cost + tip + tax\n",
    "\n",
    "    # cast the result of the rounding operation to an int and save it as total_cost \n",
    "    total_cost = float(total)\n",
    "    #round is used as, result should be rounded\n",
    "    return round(total_cost)\n",
    "    \n",
    "\n",
    "# Print result\n",
    "print(\"The total meal cost is \" + str(get_total_cost_of_meal()) + \" dollars.\")"
   ]
  },
  {
   "cell_type": "markdown",
   "metadata": {},
   "source": [
    "# What I learned?\n",
    "\n",
    "| Topic | learned |example\n",
    "|-----------------------------|----------------------------|--------------------------|\n",
    "|  creating variable     |3 steps: declare, allocate, initialize                                |\n",
    "|  function parameter    |it is an input data to the function, local variable                   |def func (parameter):\n",
    "|  function argument     |piece of data passed to fn whose value becomes value of parameter     |func(argument)\n",
    "|  instance   |   methods & properties  |\n",
    "|  round function  |   on return statement |\n",
    "\n",
    "\n"
   ]
  },
  {
   "cell_type": "code",
   "execution_count": null,
   "metadata": {
    "collapsed": true
   },
   "outputs": [],
   "source": []
  }
 ],
 "metadata": {
  "kernelspec": {
   "display_name": "Python 3",
   "language": "python",
   "name": "python3"
  },
  "language_info": {
   "codemirror_mode": {
    "name": "ipython",
    "version": 3
   },
   "file_extension": ".py",
   "mimetype": "text/x-python",
   "name": "python",
   "nbconvert_exporter": "python",
   "pygments_lexer": "ipython3",
   "version": "3.6.1"
  }
 },
 "nbformat": 4,
 "nbformat_minor": 2
}
