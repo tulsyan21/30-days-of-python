{
 "cells": [
  {
   "cell_type": "markdown",
   "metadata": {},
   "source": [
    "# Day 20 challenge: Sorting (Bubble Sort)\n",
    "Please click on the link to view the challenge on hackerrank website: https://www.hackerrank.com/challenges/30-sorting/problem"
   ]
  },
  {
   "cell_type": "code",
   "execution_count": 35,
   "metadata": {},
   "outputs": [
    {
     "name": "stdout",
     "output_type": "stream",
     "text": [
      "4\n",
      "9 2 10 4\n",
      "Array is sorted in 3 swaps.\n",
      "First Element: 2\n",
      "Last Element: 10\n"
     ]
    }
   ],
   "source": [
    "import sys\n",
    "\n",
    "n = int(input().strip())\n",
    "arr = list(map(int, input().strip().split(' ')))\n",
    "# Write Your Code Here\n",
    "\n",
    "swaps = 0\n",
    "#Outer loop\n",
    "for i in range(n):\n",
    "    for k in range(n - 1):\n",
    "        # if 1st element > 2nd element in the array\n",
    "        if arr[k]>arr[k + 1]:\n",
    "                temp = arr[k]\n",
    "                arr[k] = arr[k + 1]\n",
    "                arr[k + 1] = temp\n",
    "                #increment swaps\n",
    "                swaps += 1\n",
    "                \n",
    "    if swaps == 0:\n",
    "        break\n",
    "        \n",
    "print(\"Array is sorted in \" + str(swaps) + \" swaps.\")\n",
    "print(\"First Element: \" + str(arr[0]))\n",
    "print(\"Last Element: \" + str(arr[len(arr) - 1]))"
   ]
  },
  {
   "cell_type": "markdown",
   "metadata": {},
   "source": [
    "## What I learned"
   ]
  },
  {
   "cell_type": "markdown",
   "metadata": {},
   "source": [
    "- Bubble sort: http://www.cs.armstrong.edu/liang/animation/web/BubbleSort.html"
   ]
  },
  {
   "cell_type": "code",
   "execution_count": null,
   "metadata": {
    "collapsed": true
   },
   "outputs": [],
   "source": []
  }
 ],
 "metadata": {
  "kernelspec": {
   "display_name": "Python 3",
   "language": "python",
   "name": "python3"
  },
  "language_info": {
   "codemirror_mode": {
    "name": "ipython",
    "version": 3
   },
   "file_extension": ".py",
   "mimetype": "text/x-python",
   "name": "python",
   "nbconvert_exporter": "python",
   "pygments_lexer": "ipython3",
   "version": "3.6.1"
  }
 },
 "nbformat": 4,
 "nbformat_minor": 2
}
