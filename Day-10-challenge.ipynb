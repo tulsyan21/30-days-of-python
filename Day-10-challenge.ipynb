{
 "cells": [
  {
   "cell_type": "markdown",
   "metadata": {},
   "source": [
    "# Day 10 challenge: Binary Numbers\n",
    "Please click on the link to view the challenge on hackerrank website: https://www.hackerrank.com/challenges/30-binary-numbers/problem"
   ]
  },
  {
   "cell_type": "code",
   "execution_count": 24,
   "metadata": {},
   "outputs": [
    {
     "name": "stdout",
     "output_type": "stream",
     "text": [
      "7\n",
      "3\n"
     ]
    }
   ],
   "source": [
    "#Solution to day 10 challenge\n",
    "n = int(input().strip())\n",
    "\n",
    "# initial count\n",
    "count = 0\n",
    "\n",
    "# Logic: n = 7 ---> 0111 (binary)\n",
    "#     0111\n",
    "#    &1110 --> shifted to the left by 1\n",
    "#Ans= 0111 ---> count is 3\n",
    "\n",
    "while(n != 0):\n",
    "    n = (n & (n << 1))\n",
    "    count += 1\n",
    "    \n",
    "print(count)\n",
    "\n"
   ]
  },
  {
   "cell_type": "markdown",
   "metadata": {},
   "source": [
    "Base 2 to base 10 conversion\n",
    "\n",
    "| Base 2 | Base 10  |\n",
    "|------|------|\n",
    "|  1 = 1 * 2^0  | 1|\n",
    "|  11 = 1 * 2^1 + 1 * 2^0  | 3|"
   ]
  },
  {
   "cell_type": "markdown",
   "metadata": {},
   "source": [
    "Base 10 to base 2 conversion\n",
    "\n",
    "            2| 34 | 0|     \n",
    "            2| 17 | 1|       |\n",
    "            2| 8  | 0|       | bottom to top      = 100010 --> binary value of 34\n",
    "            2| 4  | 0|       |\n",
    "            2| 2  | 0|\n",
    "             | 1  | 1|"
   ]
  },
  {
   "cell_type": "markdown",
   "metadata": {},
   "source": [
    "Addition operation\n",
    "\n",
    "0 + 0 = 0                    \n",
    "0 + 1 = 1                  \n",
    "1 + 0 = 1  \n",
    "1 + 1 = 0 ---> carry one        \n",
    "\n",
    "\n"
   ]
  },
  {
   "cell_type": "markdown",
   "metadata": {},
   "source": [
    "2's complement\n",
    "\n",
    "Convert decimal number to binary  \n",
    "Flip the binary numbers 1-->0 and 0 to 1  \n",
    "Add one at the LSD and add\n",
    "\n",
    "\n"
   ]
  },
  {
   "cell_type": "code",
   "execution_count": 10,
   "metadata": {},
   "outputs": [],
   "source": [
    "from numpy import binary_repr\n",
    "\n",
    "#Numpy module used to convert the number to binary\n",
    "def dectobin(n):\n",
    "    return int(binary_repr(n, width=None))\n"
   ]
  },
  {
   "cell_type": "code",
   "execution_count": 11,
   "metadata": {},
   "outputs": [
    {
     "data": {
      "text/plain": [
       "1001"
      ]
     },
     "execution_count": 11,
     "metadata": {},
     "output_type": "execute_result"
    }
   ],
   "source": [
    "dectobin(9)"
   ]
  },
  {
   "cell_type": "code",
   "execution_count": 18,
   "metadata": {},
   "outputs": [],
   "source": [
    "def maxonecount(n):\n",
    "    # initial count\n",
    "    count = 0\n",
    "    # Logic:\n",
    "\n",
    "    while(n != 0):\n",
    "        n = (n & (n << 1))\n",
    "        count += 1\n",
    "    return count\n",
    "    "
   ]
  },
  {
   "cell_type": "code",
   "execution_count": 20,
   "metadata": {},
   "outputs": [
    {
     "data": {
      "text/plain": [
       "3"
      ]
     },
     "execution_count": 20,
     "metadata": {},
     "output_type": "execute_result"
    }
   ],
   "source": [
    "maxonecount(7)"
   ]
  },
  {
   "cell_type": "code",
   "execution_count": null,
   "metadata": {
    "collapsed": true
   },
   "outputs": [],
   "source": []
  }
 ],
 "metadata": {
  "kernelspec": {
   "display_name": "Python 3",
   "language": "python",
   "name": "python3"
  },
  "language_info": {
   "codemirror_mode": {
    "name": "ipython",
    "version": 3
   },
   "file_extension": ".py",
   "mimetype": "text/x-python",
   "name": "python",
   "nbconvert_exporter": "python",
   "pygments_lexer": "ipython3",
   "version": "3.6.1"
  }
 },
 "nbformat": 4,
 "nbformat_minor": 2
}
