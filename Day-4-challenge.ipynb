{
 "cells": [
  {
   "cell_type": "markdown",
   "metadata": {},
   "source": [
    "# Day 4 challenge: Class vs. Instance\n",
    "Please click on the link to view the challenge on hackerank website: https://www.hackerrank.com/challenges/30-class-vs-instance/problem"
   ]
  },
  {
   "cell_type": "code",
   "execution_count": 2,
   "metadata": {},
   "outputs": [
    {
     "name": "stdout",
     "output_type": "stream",
     "text": [
      "4\n",
      "-3\n",
      "Age is not valid, setting age to 0.\n",
      "You are young.\n",
      "You are young.\n",
      "\n",
      "6\n",
      "You are young.\n",
      "You are young.\n",
      "\n",
      "22\n",
      "You are old.\n",
      "You are old.\n",
      "\n",
      "50\n",
      "You are old.\n",
      "You are old.\n",
      "\n"
     ]
    }
   ],
   "source": [
    "class Person:\n",
    "    def __init__(self, initialAge):\n",
    "        #  run some checks on initialAge\n",
    "        if initialAge > 0:\n",
    "            self.age = initialAge\n",
    "        else:\n",
    "            print(\"Age is not valid, setting age to 0.\")\n",
    "            self.age = 0\n",
    "\n",
    "    def amIOld(self):\n",
    "        # Do some computations in here and print out the correct statement to the console\n",
    "        if self.age < 13:\n",
    "            print(\"You are young.\")\n",
    "        elif 13 <= self.age < 18:\n",
    "            print(\"You are a teenager.\")\n",
    "        else:\n",
    "            print(\"You are old.\")\n",
    "\n",
    "    def yearPasses(self):\n",
    "       # Increment the age of the person in here \n",
    "        self.age += 1\n",
    "        \n",
    "t = int(input())\n",
    "for i in range(0, t):\n",
    "    age = int(input())         \n",
    "    p = Person(age)  \n",
    "    p.amIOld()\n",
    "    for j in range(0, 3):\n",
    "        p.yearPasses()       \n",
    "    p.amIOld()\n",
    "    print(\"\")"
   ]
  },
  {
   "cell_type": "markdown",
   "metadata": {},
   "source": [
    "## What I learned?"
   ]
  },
  {
   "cell_type": "markdown",
   "metadata": {},
   "source": [
    "| Topic | learned |example\n",
    "|-----------------------------|----------------------------|--------------------------|\n",
    "|  Class     |construct that let's you structure software                                |class Car:\n",
    "| Functions in class     |they are methods inside class                               |def maxSpeed(self):\n",
    "| self     |Watch video: https://www.youtube.com/watch?v=M1BAlDufqao                             |temp placeholder for object"
   ]
  },
  {
   "cell_type": "code",
   "execution_count": null,
   "metadata": {
    "collapsed": true
   },
   "outputs": [],
   "source": []
  }
 ],
 "metadata": {
  "kernelspec": {
   "display_name": "Python 3",
   "language": "python",
   "name": "python3"
  },
  "language_info": {
   "codemirror_mode": {
    "name": "ipython",
    "version": 3
   },
   "file_extension": ".py",
   "mimetype": "text/x-python",
   "name": "python",
   "nbconvert_exporter": "python",
   "pygments_lexer": "ipython3",
   "version": "3.6.1"
  }
 },
 "nbformat": 4,
 "nbformat_minor": 2
}
