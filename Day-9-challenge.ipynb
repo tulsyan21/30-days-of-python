{
 "cells": [
  {
   "cell_type": "markdown",
   "metadata": {},
   "source": [
    "# Day 9 challenge: Recursion\n",
    "Please click on the link to view the challenge on hackerank website: https://www.hackerrank.com/challenges/30-recursion/problem"
   ]
  },
  {
   "cell_type": "code",
   "execution_count": 2,
   "metadata": {},
   "outputs": [
    {
     "name": "stdout",
     "output_type": "stream",
     "text": [
      "5\n",
      "120\n"
     ]
    }
   ],
   "source": [
    "import sys\n",
    "\n",
    "def factorial(n):\n",
    "    #base case\n",
    "    if (n <= 1):\n",
    "        return 1  # because n * 0 = 0 and n * 1 = n, this is mul identity\n",
    "    #recursive case\n",
    "    else:\n",
    "        return n * (factorial(n - 1))\n",
    "\n",
    "if __name__ == \"__main__\":\n",
    "    n = int(input().strip())\n",
    "    result = factorial(n)\n",
    "    print(result)\n",
    "\n",
    "# Output = 5 ! = 5 * 4 * 3 * 2 * 1 = 120"
   ]
  },
  {
   "cell_type": "markdown",
   "metadata": {},
   "source": [
    "## Recursion Concept:\n",
    "-  The process of defining a function or calculating a number by the repeated application of algorithm.\n",
    "-  Base case: when we stop repeating the algorithm\n",
    "- Recursive case: Repeating the algorithm\n",
    "- Example: \n",
    "\n",
    "f(f(f(x)))  where f(x) = x + 10  \n",
    "let x = 10  \n",
    " f(x) = x + 10 --->  f(10) = 10 + 10 = 20 ----> f(f(20)  \n",
    " f(x) = x + 10 --->  f(20) = 20 + 10 = 30 ----> f(30)  \n",
    " f(x) = x + 10 --->  f(30) = 30 + 10 = 40 -----> 40  \n",
    " \n",
    " so f(f(f(x) = 40"
   ]
  },
  {
   "cell_type": "code",
   "execution_count": 1,
   "metadata": {
    "collapsed": true
   },
   "outputs": [],
   "source": [
    "def summation(n):\n",
    "    \n",
    "    # base case\n",
    "    if (n <= 0):\n",
    "        return 0 # addetive identity property\n",
    "    # recursive case\n",
    "    # 3 + summation(3-1)\n",
    "    # 3 + 2 + summation(2-1)\n",
    "    # 3 + 2 + 1 + summation(0)\n",
    "    # 3 + 2 + 1 = 6\n",
    "    else:\n",
    "        return n + summation(n - 1)"
   ]
  },
  {
   "cell_type": "code",
   "execution_count": 2,
   "metadata": {},
   "outputs": [
    {
     "data": {
      "text/plain": [
       "6"
      ]
     },
     "execution_count": 2,
     "metadata": {},
     "output_type": "execute_result"
    }
   ],
   "source": [
    "summation(3)"
   ]
  },
  {
   "cell_type": "code",
   "execution_count": 4,
   "metadata": {
    "collapsed": true
   },
   "outputs": [],
   "source": [
    "# Factorial of 6!  = 6 * 5 * 4 * 3 * 2 * 1 ---> 6 * 5!\n",
    "def factorial(n):\n",
    "    #base case\n",
    "    if (n <= 1):\n",
    "        return 1  # because n * 0 = 0 and n * 1 = n, this is mul identity\n",
    "    #recursive case\n",
    "    else:\n",
    "        return n * (factorial(n - 1))"
   ]
  },
  {
   "cell_type": "code",
   "execution_count": 5,
   "metadata": {},
   "outputs": [
    {
     "data": {
      "text/plain": [
       "720"
      ]
     },
     "execution_count": 5,
     "metadata": {},
     "output_type": "execute_result"
    }
   ],
   "source": [
    "factorial(6)"
   ]
  },
  {
   "cell_type": "code",
   "execution_count": 6,
   "metadata": {
    "collapsed": true
   },
   "outputs": [],
   "source": [
    "#Exponential\n",
    "# 6 ^2 ---> 6 * 6 = 36\n",
    "# 6 * 6 ^ 1 = 36\n",
    "#In above case n = 6 and p = 2\n",
    "def exponential(n, p):\n",
    "    if(p <= 0):\n",
    "        return 1 #mul identity\n",
    "    \n",
    "    else:\n",
    "        return n * exponential(n, p-1) "
   ]
  },
  {
   "cell_type": "code",
   "execution_count": 8,
   "metadata": {},
   "outputs": [
    {
     "data": {
      "text/plain": [
       "8"
      ]
     },
     "execution_count": 8,
     "metadata": {},
     "output_type": "execute_result"
    }
   ],
   "source": [
    "exponential(2, 3)"
   ]
  },
  {
   "cell_type": "code",
   "execution_count": null,
   "metadata": {
    "collapsed": true
   },
   "outputs": [],
   "source": []
  }
 ],
 "metadata": {
  "kernelspec": {
   "display_name": "Python 3",
   "language": "python",
   "name": "python3"
  },
  "language_info": {
   "codemirror_mode": {
    "name": "ipython",
    "version": 3
   },
   "file_extension": ".py",
   "mimetype": "text/x-python",
   "name": "python",
   "nbconvert_exporter": "python",
   "pygments_lexer": "ipython3",
   "version": "3.6.1"
  }
 },
 "nbformat": 4,
 "nbformat_minor": 2
}
