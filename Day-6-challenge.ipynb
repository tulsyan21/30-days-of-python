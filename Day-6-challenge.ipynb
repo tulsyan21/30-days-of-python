{
 "cells": [
  {
   "cell_type": "markdown",
   "metadata": {},
   "source": [
    "# Day 6 challenge: Review\n",
    "Please click on the link to view the challenge on hackerank website: https://www.hackerrank.com/challenges/30-review-loop/problem"
   ]
  },
  {
   "cell_type": "code",
   "execution_count": 6,
   "metadata": {},
   "outputs": [
    {
     "name": "stdout",
     "output_type": "stream",
     "text": [
      "2\n",
      "sawani\n",
      "swn aai \n",
      "clare\n",
      "cae lr \n"
     ]
    }
   ],
   "source": [
    "#This defines T subsequent lines\n",
    "for i in range(0, int(input())):\n",
    "    #enter the string\n",
    "    word = input()\n",
    "    \n",
    "    # for the even indices of the word\n",
    "    for s in range(0, len(word)):\n",
    "        if (s%2 == 0):\n",
    "            print(word[s], end ='')\n",
    "    print(\" \", end ='')\n",
    "    \n",
    "    #for odd indices of the word      \n",
    "    for s in range(0, len(word)):\n",
    "        if (s%2 != 0):\n",
    "            print(word[s], end ='')\n",
    "            \n",
    "    print(\" \")"
   ]
  },
  {
   "cell_type": "markdown",
   "metadata": {},
   "source": [
    "## Key points"
   ]
  },
  {
   "cell_type": "markdown",
   "metadata": {},
   "source": [
    "-  end = ''  : when you want space after end of statement\n",
    "-  string slicing and indexing\n"
   ]
  },
  {
   "cell_type": "code",
   "execution_count": null,
   "metadata": {
    "collapsed": true
   },
   "outputs": [],
   "source": []
  }
 ],
 "metadata": {
  "kernelspec": {
   "display_name": "Python 3",
   "language": "python",
   "name": "python3"
  },
  "language_info": {
   "codemirror_mode": {
    "name": "ipython",
    "version": 3
   },
   "file_extension": ".py",
   "mimetype": "text/x-python",
   "name": "python",
   "nbconvert_exporter": "python",
   "pygments_lexer": "ipython3",
   "version": "3.6.1"
  }
 },
 "nbformat": 4,
 "nbformat_minor": 2
}
