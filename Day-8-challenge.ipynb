{
 "cells": [
  {
   "cell_type": "markdown",
   "metadata": {},
   "source": [
    "# Day 8 challenge: Dictionaries\n",
    "Please click on the link to view the challenge on hackerank website: https://www.hackerrank.com/challenges/30-dictionaries-and-maps/problem"
   ]
  },
  {
   "cell_type": "code",
   "execution_count": 1,
   "metadata": {},
   "outputs": [
    {
     "name": "stdout",
     "output_type": "stream",
     "text": [
      "2\n",
      "Alex 98765400\n",
      "Sawani 98765432\n",
      "Alex\n",
      "Alex=98765400\n",
      "Murphy\n",
      "Not found\n",
      "sawani\n",
      "Not found\n",
      "Alex\n",
      "Alex=98765400\n",
      "\n"
     ]
    }
   ],
   "source": [
    "# N susequent lines\n",
    "n = int(input())\n",
    "\n",
    "#create empty phonebook\n",
    "phonebook = {}\n",
    "\n",
    "#In name variable goes names and in id variable goes phone numbers\n",
    "for i in range(0,n):\n",
    "    name, id = input().split()\n",
    "    phonebook[name] = id\n",
    "    \n",
    "\n",
    "while (1):\n",
    "    # if the name string is empty, while loop will break\n",
    "    string = ''\n",
    "    name = input()\n",
    "    if (name == string):\n",
    "        break\n",
    "    # if name appears in keys of a phonebook, then name and number is printed\n",
    "    if(name in phonebook.keys()):\n",
    "        print (name + \"=\" + phonebook[name])\n",
    "    else:\n",
    "        print (\"Not found\")"
   ]
  },
  {
   "cell_type": "markdown",
   "metadata": {},
   "source": [
    "## What I learned?\n",
    "Dictionaries\n",
    "-  Dictionaries in python starts and ends with {}, which has key value pairs\n",
    "-  No constraients on size\n",
    "-  Access by key instead of index\n",
    "-  key can have one data type and values other data type"
   ]
  },
  {
   "cell_type": "code",
   "execution_count": 6,
   "metadata": {
    "collapsed": true
   },
   "outputs": [],
   "source": [
    "#Defining dictionary\n",
    "name = {'Sawani': 490, 'Clare': 500, 'Alex':650}"
   ]
  },
  {
   "cell_type": "code",
   "execution_count": 7,
   "metadata": {},
   "outputs": [
    {
     "name": "stdout",
     "output_type": "stream",
     "text": [
      "{'Sawani': 490, 'Clare': 500, 'Alex': 650, 'Jack': 444, 'Savi': 689}\n"
     ]
    }
   ],
   "source": [
    "#Additing more key-value pairs to dictionary\n",
    "name['Jack'] = 444\n",
    "name['Savi'] = 689\n",
    "print(name)"
   ]
  },
  {
   "cell_type": "code",
   "execution_count": 8,
   "metadata": {},
   "outputs": [
    {
     "name": "stdout",
     "output_type": "stream",
     "text": [
      "{'Sawani': 490, 'Clare': 500, 'Alex': 650, 'Jack': 444}\n"
     ]
    }
   ],
   "source": [
    "#delete the item in dictionary\n",
    "del name['Savi']\n",
    "print(name)"
   ]
  },
  {
   "cell_type": "code",
   "execution_count": 9,
   "metadata": {},
   "outputs": [
    {
     "data": {
      "text/plain": [
       "['Sawani', 'Clare', 'Alex', 'Jack']"
      ]
     },
     "execution_count": 9,
     "metadata": {},
     "output_type": "execute_result"
    }
   ],
   "source": [
    "#convert dictionary keys to list\n",
    "list(name.keys())"
   ]
  },
  {
   "cell_type": "code",
   "execution_count": 10,
   "metadata": {},
   "outputs": [
    {
     "data": {
      "text/plain": [
       "[490, 500, 650, 444]"
      ]
     },
     "execution_count": 10,
     "metadata": {},
     "output_type": "execute_result"
    }
   ],
   "source": [
    "#Convert dictionary values to list\n",
    "list(name.values())"
   ]
  },
  {
   "cell_type": "code",
   "execution_count": 11,
   "metadata": {},
   "outputs": [
    {
     "data": {
      "text/plain": [
       "['Alex', 'Clare', 'Jack', 'Sawani']"
      ]
     },
     "execution_count": 11,
     "metadata": {},
     "output_type": "execute_result"
    }
   ],
   "source": [
    "#Sort all the keys\n",
    "sorted(name.keys())"
   ]
  },
  {
   "cell_type": "code",
   "execution_count": 12,
   "metadata": {},
   "outputs": [
    {
     "data": {
      "text/plain": [
       "{'bread': 12, 'butter': 21}"
      ]
     },
     "execution_count": 12,
     "metadata": {},
     "output_type": "execute_result"
    }
   ],
   "source": [
    "#Converting sequence of key value pairs into dictionaries\n",
    "dict([('bread', 12), ('butter', 21)])"
   ]
  },
  {
   "cell_type": "code",
   "execution_count": 13,
   "metadata": {},
   "outputs": [
    {
     "data": {
      "text/plain": [
       "{1: 1, 2: 8, 3: 27}"
      ]
     },
     "execution_count": 13,
     "metadata": {},
     "output_type": "execute_result"
    }
   ],
   "source": [
    "#Dict comprehensions can be used to create a dictionary\n",
    "{a: a**3 for a in (1,2,3)}"
   ]
  },
  {
   "cell_type": "code",
   "execution_count": null,
   "metadata": {
    "collapsed": true
   },
   "outputs": [],
   "source": []
  }
 ],
 "metadata": {
  "kernelspec": {
   "display_name": "Python 3",
   "language": "python",
   "name": "python3"
  },
  "language_info": {
   "codemirror_mode": {
    "name": "ipython",
    "version": 3
   },
   "file_extension": ".py",
   "mimetype": "text/x-python",
   "name": "python",
   "nbconvert_exporter": "python",
   "pygments_lexer": "ipython3",
   "version": "3.6.1"
  }
 },
 "nbformat": 4,
 "nbformat_minor": 2
}
