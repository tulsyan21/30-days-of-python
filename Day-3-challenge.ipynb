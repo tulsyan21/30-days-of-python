{
 "cells": [
  {
   "cell_type": "markdown",
   "metadata": {},
   "source": [
    "# Day 3 challenge: Intro to conditional statement\n",
    "Please click on the link to view the challenge on hackerank website: https://www.hackerrank.com/challenges/30-conditional-statements/problem\n"
   ]
  },
  {
   "cell_type": "code",
   "execution_count": 15,
   "metadata": {},
   "outputs": [
    {
     "name": "stdout",
     "output_type": "stream",
     "text": [
      "22\n",
      "Not Weird\n"
     ]
    }
   ],
   "source": [
    "#int number user input\n",
    "n = int(input())\n",
    "\n",
    "# if n is even and inclusive 6 to 20\n",
    "if ((n%2 == 0) & (6 < n < 20)):\n",
    "    print(\"Weird\")\n",
    "    \n",
    "#if n is even and greater than 20\n",
    "elif ((n%2 == 0) & (20 < n <= 100)):\n",
    "    print(\"Not Weird\")\n",
    "    \n",
    "#if n is even and inclusive between 2 to 5\n",
    "elif ((n%2 == 0) & (2 < n < 5)):\n",
    "    print(\"Not Weird\")\n",
    "    \n",
    "# if n is odd    \n",
    "else:\n",
    "    print(\"Weird\")"
   ]
  },
  {
   "cell_type": "markdown",
   "metadata": {},
   "source": [
    "## Things I learned?\n",
    "-  Class: It is blueprint with tools, properties and methods.\n",
    "-  Instance: An object created from the blueprint\n",
    "- inequalities: ==, <=, >=, != and so on\n",
    "- if-elif-else condition\n"
   ]
  },
  {
   "cell_type": "code",
   "execution_count": null,
   "metadata": {
    "collapsed": true
   },
   "outputs": [],
   "source": []
  }
 ],
 "metadata": {
  "kernelspec": {
   "display_name": "Python 3",
   "language": "python",
   "name": "python3"
  },
  "language_info": {
   "codemirror_mode": {
    "name": "ipython",
    "version": 3
   },
   "file_extension": ".py",
   "mimetype": "text/x-python",
   "name": "python",
   "nbconvert_exporter": "python",
   "pygments_lexer": "ipython3",
   "version": "3.6.1"
  }
 },
 "nbformat": 4,
 "nbformat_minor": 2
}
