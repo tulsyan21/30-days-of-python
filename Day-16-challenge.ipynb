{
 "cells": [
  {
   "cell_type": "markdown",
   "metadata": {},
   "source": [
    "# Day 16 challenge: Exceptions: String to Int\n",
    "Please click on the link to view the challenge on hackerrank website:https://www.hackerrank.com/challenges/30-exceptions-string-to-integer/problem\n"
   ]
  },
  {
   "cell_type": "code",
   "execution_count": 10,
   "metadata": {},
   "outputs": [
    {
     "name": "stdout",
     "output_type": "stream",
     "text": [
      "sa\n",
      "Bad String\n"
     ]
    }
   ],
   "source": [
    "# Try this \n",
    "try:\n",
    "\n",
    "    S = int(input().strip())\n",
    "\n",
    "    print(S)\n",
    "\n",
    "# handle exception, so when exception occurs, we will see message bad string\n",
    "except Exception as s:\n",
    "    \n",
    "    \n",
    "    print('Bad String')"
   ]
  },
  {
   "cell_type": "markdown",
   "metadata": {},
   "source": [
    "## What I learned?"
   ]
  },
  {
   "cell_type": "markdown",
   "metadata": {},
   "source": [
    "-  Exception: An event that occurs during the execution of the program.\n",
    "-  This disrupts the normal flow of the instructions.\n",
    "-  Program stops\n",
    "\n",
    "-  When there is an error in the method, this creates an error object during runtime system, which throws the exception."
   ]
  },
  {
   "cell_type": "markdown",
   "metadata": {},
   "source": [
    "## Handle exceptions"
   ]
  },
  {
   "cell_type": "markdown",
   "metadata": {},
   "source": [
    "-  Checked exceptions: wrong syntax\n",
    "-  Unchecked exception: logical errors in code\n"
   ]
  },
  {
   "cell_type": "code",
   "execution_count": null,
   "metadata": {
    "collapsed": true
   },
   "outputs": [],
   "source": []
  }
 ],
 "metadata": {
  "kernelspec": {
   "display_name": "Python 3",
   "language": "python",
   "name": "python3"
  },
  "language_info": {
   "codemirror_mode": {
    "name": "ipython",
    "version": 3
   },
   "file_extension": ".py",
   "mimetype": "text/x-python",
   "name": "python",
   "nbconvert_exporter": "python",
   "pygments_lexer": "ipython3",
   "version": "3.6.1"
  }
 },
 "nbformat": 4,
 "nbformat_minor": 2
}
